{
 "cells": [
  {
   "cell_type": "markdown",
   "metadata": {},
   "source": [
    "### Fake currency classification using Random forest classifier. "
   ]
  },
  {
   "cell_type": "code",
   "execution_count": 1,
   "metadata": {},
   "outputs": [],
   "source": [
    "import os\n",
    "from numpy import array\n",
    "from cv2 import imread, resize"
   ]
  },
  {
   "cell_type": "code",
   "execution_count": 11,
   "metadata": {},
   "outputs": [],
   "source": [
    "LABELS = ['fake_front', 'fake_rear', 'real_front', 'real_rear']\n",
    "DIR = './dataset'\n",
    "DATASET = []\n",
    "LABELS_SET = []\n",
    "\n",
    "# reshaping and preprocessing of input images.\n",
    "for label in LABELS :\n",
    "    dir_path = os.path.join(DIR, label)\n",
    "\n",
    "    for item in os.listdir(dir_path) :\n",
    "        img_path = os.path.join(dir_path, item)\n",
    "        img = imread(img_path, 0)\n",
    "        img = resize(img, (400, 200))\n",
    "        img = array(img) / 255.0 # re scale\n",
    "        img = img.flatten().tolist()\n",
    "        DATASET.append(img)\n",
    "        LABELS_SET.append(LABELS.index(label))"
   ]
  },
  {
   "cell_type": "markdown",
   "metadata": {},
   "source": [
    "##### Preparing model, 80% for training and 20% for testing."
   ]
  },
  {
   "cell_type": "code",
   "execution_count": 3,
   "metadata": {},
   "outputs": [],
   "source": [
    "from sklearn.model_selection import train_test_split\n",
    "from sklearn.ensemble import RandomForestClassifier\n",
    "from sklearn.metrics import confusion_matrix, accuracy_score, f1_score, precision_score, recall_score\n",
    "\n",
    "x_train, x_test, y_train, y_test = train_test_split(DATASET, LABELS_SET, train_size=0.80, test_size=0.20)"
   ]
  },
  {
   "cell_type": "code",
   "execution_count": 5,
   "metadata": {},
   "outputs": [
    {
     "name": "stdout",
     "output_type": "stream",
     "text": [
      "Training set size : 867\n",
      "Test set size : 217\n"
     ]
    }
   ],
   "source": [
    "print(f\"Training set size : {len(x_train)}\")\n",
    "print(f\"Test set size : {len(x_test)}\")"
   ]
  },
  {
   "cell_type": "markdown",
   "metadata": {},
   "source": [
    "#### Training"
   ]
  },
  {
   "cell_type": "code",
   "execution_count": 6,
   "metadata": {},
   "outputs": [],
   "source": [
    "rfc = RandomForestClassifier(n_estimators=16, criterion='entropy', random_state=64).fit(x_test, y_test) "
   ]
  },
  {
   "cell_type": "markdown",
   "metadata": {},
   "source": [
    "#### Making prediction on test set."
   ]
  },
  {
   "cell_type": "code",
   "execution_count": 7,
   "metadata": {},
   "outputs": [],
   "source": [
    "prediction = rfc.predict(x_test)"
   ]
  },
  {
   "cell_type": "markdown",
   "metadata": {},
   "source": [
    "$ Measuring \\; metrics $"
   ]
  },
  {
   "cell_type": "code",
   "execution_count": 8,
   "metadata": {},
   "outputs": [
    {
     "name": "stdout",
     "output_type": "stream",
     "text": [
      "Accuracy :  99.08\n",
      "Precision :  99.10\n",
      "Recall score:  99.08\n",
      "F1 Sore : 99.08\n"
     ]
    }
   ],
   "source": [
    "acc = accuracy_score(y_test, prediction)\n",
    "f1_sc= f1_score(y_test, prediction, average='weighted')\n",
    "pre_sc = precision_score(y_test, prediction, average='weighted')\n",
    "rc_score = recall_score(y_test, prediction, average='weighted')\n",
    "cm = confusion_matrix(y_test, y_pred=prediction)\n",
    "\n",
    "print('Accuracy : ', \"%.2f\" % (acc*100))\n",
    "print('Precision : ', \"%.2f\" % (pre_sc*100))\n",
    "print('Recall score: ', \"%.2f\" % (rc_score*100))\n",
    "print('F1 Sore :', \"%.2f\" % (f1_sc*100))"
   ]
  },
  {
   "cell_type": "markdown",
   "metadata": {},
   "source": [
    "$ Confusion \\; matrix $"
   ]
  },
  {
   "cell_type": "code",
   "execution_count": 9,
   "metadata": {},
   "outputs": [
    {
     "data": {
      "text/plain": [
       "<Axes: >"
      ]
     },
     "execution_count": 9,
     "metadata": {},
     "output_type": "execute_result"
    },
    {
     "data": {
      "image/png": "[encoded data removed]",
      "text/plain": [
       "<Figure size 640x480 with 2 Axes>"
      ]
     },
     "metadata": {},
     "output_type": "display_data"
    }
   ],
   "source": [
    "from seaborn import heatmap\n",
    "\n",
    "heatmap(cm, fmt='.1f', annot=True, xticklabels=LABELS, yticklabels=LABELS)"
   ]
  },
  {
   "cell_type": "markdown",
   "metadata": {},
   "source": [
    "Saving model"
   ]
  },
  {
   "cell_type": "code",
   "execution_count": 12,
   "metadata": {},
   "outputs": [
    {
     "data": {
      "text/plain": [
       "['rfc_model.joblib']"
      ]
     },
     "execution_count": 12,
     "metadata": {},
     "output_type": "execute_result"
    }
   ],
   "source": [
    "from joblib import dump\n",
    "\n",
    "dump(rfc, 'rfc_model.joblib')"
   ]
  }
 ],
 "metadata": {
  "kernelspec": {
   "display_name": "deep_learning",
   "language": "python",
   "name": "python3"
  },
  "language_info": {
   "codemirror_mode": {
    "name": "ipython",
    "version": 3
   },
   "file_extension": ".py",
   "mimetype": "text/x-python",
   "name": "python",
   "nbconvert_exporter": "python",
   "pygments_lexer": "ipython3",
   "version": "3.9.19"
  }
 },
 "nbformat": 4,
 "nbformat_minor": 2
}
